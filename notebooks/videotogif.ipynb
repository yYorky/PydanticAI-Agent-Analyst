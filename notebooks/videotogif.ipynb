{
 "cells": [
  {
   "cell_type": "code",
   "execution_count": 1,
   "metadata": {},
   "outputs": [],
   "source": [
    "from moviepy import *"
   ]
  },
  {
   "cell_type": "code",
   "execution_count": 2,
   "metadata": {},
   "outputs": [],
   "source": [
    "# Example usage\n",
    "video_path = \"C:/Users/York Yong/OneDrive - Singapore Management University/Desktop/PydanticAI Agent Analyst/video/AAPL.mp4\"  \n",
    "gif_path = \"C:/Users/York Yong/OneDrive - Singapore Management University/Desktop/PydanticAI Agent Analyst/static/AAPL_P1.gif\"           "
   ]
  },
  {
   "cell_type": "code",
   "execution_count": 3,
   "metadata": {},
   "outputs": [
    {
     "name": "stdout",
     "output_type": "stream",
     "text": [
      "MoviePy - Building file C:/Users/York Yong/OneDrive - Singapore Management University/Desktop/PydanticAI Agent Analyst/static/AAPL_P1.gif with imageio.\n"
     ]
    },
    {
     "name": "stderr",
     "output_type": "stream",
     "text": [
      "                                                                        \r"
     ]
    }
   ],
   "source": [
    "# Load the video clip\n",
    "myclip = VideoFileClip(video_path).subclipped(2, 37)\n",
    "\n",
    "# Crop the top 150 pixels\n",
    "cropped_clip = myclip.cropped(y1=150)\n",
    "\n",
    "# Save the cropped clip as a GIF with the desired frame rate\n",
    "cropped_clip.write_gif(gif_path, fps=5)"
   ]
  },
  {
   "cell_type": "code",
   "execution_count": 4,
   "metadata": {},
   "outputs": [],
   "source": [
    "# Example usage\n",
    "video_path = \"C:/Users/York Yong/OneDrive - Singapore Management University/Desktop/PydanticAI Agent Analyst/video/AAPL.mp4\"  \n",
    "gif_path = \"C:/Users/York Yong/OneDrive - Singapore Management University/Desktop/PydanticAI Agent Analyst/static/AAPL_P2.gif\"    "
   ]
  },
  {
   "cell_type": "code",
   "execution_count": 5,
   "metadata": {},
   "outputs": [
    {
     "name": "stdout",
     "output_type": "stream",
     "text": [
      "MoviePy - Building file C:/Users/York Yong/OneDrive - Singapore Management University/Desktop/PydanticAI Agent Analyst/static/AAPL_P2.gif with imageio.\n"
     ]
    },
    {
     "name": "stderr",
     "output_type": "stream",
     "text": [
      "                                                                        \r"
     ]
    }
   ],
   "source": [
    "# Load the video clip\n",
    "myclip = VideoFileClip(video_path).subclipped(51, 81)\n",
    "\n",
    "# Crop the top 150 pixels\n",
    "cropped_clip = myclip.cropped(y1=150)\n",
    "\n",
    "# Save the cropped clip as a GIF with the desired frame rate\n",
    "cropped_clip.write_gif(gif_path, fps=5)"
   ]
  },
  {
   "cell_type": "code",
   "execution_count": null,
   "metadata": {},
   "outputs": [],
   "source": []
  }
 ],
 "metadata": {
  "kernelspec": {
   "display_name": "pydanticai",
   "language": "python",
   "name": "python3"
  },
  "language_info": {
   "codemirror_mode": {
    "name": "ipython",
    "version": 3
   },
   "file_extension": ".py",
   "mimetype": "text/x-python",
   "name": "python",
   "nbconvert_exporter": "python",
   "pygments_lexer": "ipython3",
   "version": "3.10.16"
  }
 },
 "nbformat": 4,
 "nbformat_minor": 2
}
